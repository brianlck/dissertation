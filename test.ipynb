{
 "cells": [
  {
   "cell_type": "code",
   "execution_count": null,
   "metadata": {},
   "outputs": [],
   "source": [
    "from mcmd.densities import Funnel, GaussianMixture\n",
    "import seaborn as sns\n",
    "import matplotlib.pyplot as plt \n",
    "import numpy as np\n",
    "import torch"
   ]
  },
  {
   "cell_type": "code",
   "execution_count": null,
   "metadata": {},
   "outputs": [],
   "source": [
    "# Seaborn setup \n",
    "sns.set_style('white')"
   ]
  },
  {
   "cell_type": "code",
   "execution_count": null,
   "metadata": {},
   "outputs": [],
   "source": [
    "import torch\n",
    "\n",
    "class Test:\n",
    "    def __init__(self) -> None:\n",
    "        self.x = 10\n",
    "        \n",
    "    def run(self, y):\n",
    "        return (self.x + y).mean()\n",
    "\n",
    "test = Test()\n",
    "\n",
    "def f(x):\n",
    "    return test.run(x)\n",
    "\n",
    "df = torch.func.grad(f)\n",
    "\n",
    "df(torch.tensor([2.0], requires_grad=True))"
   ]
  },
  {
   "cell_type": "code",
   "execution_count": 7,
   "metadata": {},
   "outputs": [],
   "source": [
    "from mcmd.sampler import CMCD\n",
    "from mcmd.score import ResNet\n",
    "from mcmd.densities import GaussianMixture\n",
    "from mcmd.anneal import GeometricAnnealing\n",
    "\n",
    "import torch \n",
    "import torch.nn as nn \n",
    "from torch.distributions import MultivariateNormal\n"
   ]
  },
  {
   "cell_type": "code",
   "execution_count": 13,
   "metadata": {},
   "outputs": [],
   "source": [
    "\n",
    "score_fn = ResNet(2, 38, 40, 8).cuda()\n",
    "score_fn.reset_parameters()\n",
    "\n",
    "initial_dist = MultivariateNormal(\n",
    "    loc=torch.tensor([0.0, 0.0]).cuda(),\n",
    "    covariance_matrix=(torch.eye(2) * 2 * 2).cuda(),\n",
    "    validate_args=False\n",
    ")\n",
    "\n",
    "target = GaussianMixture()\n",
    "\n",
    "anneal = GeometricAnnealing()\n",
    "\n",
    "sampler = CMCD(initial_dist, target, anneal, score_fn, 8, 0.06).cuda()\n",
    "\n",
    "optim = torch.optim.Adam(sampler.parameters(), lr=1e-3)"
   ]
  },
  {
   "cell_type": "code",
   "execution_count": 5,
   "metadata": {},
   "outputs": [
    {
     "name": "stdout",
     "output_type": "stream",
     "text": [
      "198 ms ± 14.6 ms per loop (mean ± std. dev. of 7 runs, 1 loop each)\n"
     ]
    }
   ],
   "source": [
    "%timeit sampler.sample(500)"
   ]
  },
  {
   "cell_type": "code",
   "execution_count": 16,
   "metadata": {},
   "outputs": [
    {
     "name": "stdout",
     "output_type": "stream",
     "text": [
      "2.17 ms ± 39.1 µs per loop (mean ± std. dev. of 7 runs, 1,000 loops each)\n"
     ]
    }
   ],
   "source": [
    "\n",
    "import numpy as np\n",
    "import matplotlib.pyplot as plt\n",
    "\n",
    "x = np.linspace(-20, 20, 30)\n",
    "y = np.linspace(-20, 20, 30)\n",
    "\n",
    "X, Y = np.meshgrid(x, y)\n",
    "coords = np.vstack([X.ravel(), Y.ravel()]).T\n",
    "coords = torch.tensor(coords, dtype=torch.float32).cuda()\n",
    "\n",
    "# %timeit sampler.drift(coords, 4).cpu().detach()\n",
    "%timeit sampler.log_phi(coords, 6 / 8)\n",
    "\n"
   ]
  },
  {
   "cell_type": "code",
   "execution_count": 47,
   "metadata": {},
   "outputs": [],
   "source": [
    "Tensor = torch.Tensor\n",
    "import einops\n",
    "\n",
    "\n",
    "class GaussianMixture:\n",
    "    mean_a = torch.tensor([3.0, 0.0]).cuda()\n",
    "    mean_b = torch.tensor([-2.5, 0.0]).cuda()\n",
    "    mean_c = torch.tensor([2.0, 3.0]).cuda()\n",
    "    means = torch.stack((mean_a, mean_b, mean_c), dim=0)\n",
    "    cov_a = torch.tensor([[0.7, 0.0], [0.0, 0.05]]).cuda()\n",
    "    cov_b = torch.tensor([[0.7, 0.0], [0.0, 0.05]]).cuda()\n",
    "    cov_c = torch.tensor([[1.0, 0.95], [0.95, 1.0]]).cuda()\n",
    "    covs = torch.stack((cov_a, cov_b, cov_c), dim=0)\n",
    "    log_weights = torch.tensor([1.0 / 3, 1.0 / 3.0, 1.0 / 3.0]).log().cuda()\n",
    "    l: Tensor = torch.linalg.cholesky(covs)\n",
    "    n = GaussianMixture.means.shape[-1]\n",
    "    norm = -n / 2 * np.log(2 * np.pi) - torch.log(\n",
    "            GaussianMixture.l.diagonal(dim1=-2, dim2=-1)\n",
    "        ).sum(dim=1)\n",
    "\n",
    "    def __init__(self) -> None:\n",
    "        super().__init__()\n",
    "        \n",
    "    def util(self, x: Tensor):\n",
    "        y = torch.linalg.solve_triangular(\n",
    "            GaussianMixture.l,\n",
    "            (x.unsqueeze(-2) - GaussianMixture.means).unsqueeze(-1),\n",
    "            upper=False,\n",
    "        ).squeeze(dim=-1)\n",
    "        individual_log_pdfs = -1 / 2 * torch.einsum(\"...i,...i->...\", y, y) + GaussianMixture.norm\n",
    "        \n",
    "        return normalizing_term\n",
    "\n",
    "        \n",
    "\n",
    "    def asymmetric_density(self, x: Tensor):\n",
    "        y = torch.linalg.solve_triangular(\n",
    "            GaussianMixture.l,\n",
    "            (x.unsqueeze(-2) - GaussianMixture.means).unsqueeze(-1),\n",
    "            upper=False,\n",
    "        ).squeeze(dim=-1)\n",
    "        individual_log_pdfs = -1 / 2 * torch.einsum(\"...i,...i->...\", y, y) + GaussianMixture.norm\n",
    "        \n",
    "        mixture_weighted_pdfs = individual_log_pdfs + GaussianMixture.log_weights\n",
    "\n",
    "        result = torch.logsumexp(mixture_weighted_pdfs, dim=-1)\n",
    "\n",
    "        return result\n",
    "\n",
    "    def log_density(self, x):\n",
    "        logp1 = self.asymmetric_density(x) - np.log(2.0)\n",
    "        logp2 = self.asymmetric_density(torch.flip(x, dims=[-1])) - np.log(2.0)\n",
    "\n",
    "        if x.dim() > 1:\n",
    "            return einops.reduce([logp1, logp2], \"b w -> w\", torch.logsumexp)\n",
    "\n",
    "        if x.dim() == 1:\n",
    "            return torch.logsumexp(torch.stack([logp1, logp2]), dim=0)"
   ]
  },
  {
   "cell_type": "code",
   "execution_count": 48,
   "metadata": {},
   "outputs": [
    {
     "ename": "TypeError",
     "evalue": "dot() got an unexpected keyword argument 'dim'",
     "output_type": "error",
     "traceback": [
      "\u001b[0;31m---------------------------------------------------------------------------\u001b[0m",
      "\u001b[0;31mTypeError\u001b[0m                                 Traceback (most recent call last)",
      "\u001b[1;32m/home/brianlck/code/dissertation/mcmd/test.ipynb Cell 9\u001b[0m line \u001b[0;36m<cell line: 2>\u001b[0;34m()\u001b[0m\n\u001b[1;32m      <a href='vscode-notebook-cell://wsl%2Bubuntu-20.04/home/brianlck/code/dissertation/mcmd/test.ipynb#X63sdnNjb2RlLXJlbW90ZQ%3D%3D?line=0'>1</a>\u001b[0m target \u001b[39m=\u001b[39m GaussianMixture()\n\u001b[0;32m----> <a href='vscode-notebook-cell://wsl%2Bubuntu-20.04/home/brianlck/code/dissertation/mcmd/test.ipynb#X63sdnNjb2RlLXJlbW90ZQ%3D%3D?line=1'>2</a>\u001b[0m get_ipython()\u001b[39m.\u001b[39;49mrun_line_magic(\u001b[39m'\u001b[39;49m\u001b[39mtimeit\u001b[39;49m\u001b[39m'\u001b[39;49m, \u001b[39m'\u001b[39;49m\u001b[39mtarget.util(coords)\u001b[39;49m\u001b[39m'\u001b[39;49m)\n",
      "File \u001b[0;32m~/miniconda3/lib/python3.9/site-packages/IPython/core/interactiveshell.py:2305\u001b[0m, in \u001b[0;36mInteractiveShell.run_line_magic\u001b[0;34m(self, magic_name, line, _stack_depth)\u001b[0m\n\u001b[1;32m   2303\u001b[0m     kwargs[\u001b[39m'\u001b[39m\u001b[39mlocal_ns\u001b[39m\u001b[39m'\u001b[39m] \u001b[39m=\u001b[39m \u001b[39mself\u001b[39m\u001b[39m.\u001b[39mget_local_scope(stack_depth)\n\u001b[1;32m   2304\u001b[0m \u001b[39mwith\u001b[39;00m \u001b[39mself\u001b[39m\u001b[39m.\u001b[39mbuiltin_trap:\n\u001b[0;32m-> 2305\u001b[0m     result \u001b[39m=\u001b[39m fn(\u001b[39m*\u001b[39;49margs, \u001b[39m*\u001b[39;49m\u001b[39m*\u001b[39;49mkwargs)\n\u001b[1;32m   2306\u001b[0m \u001b[39mreturn\u001b[39;00m result\n",
      "File \u001b[0;32m~/miniconda3/lib/python3.9/site-packages/IPython/core/magics/execution.py:1162\u001b[0m, in \u001b[0;36mExecutionMagics.timeit\u001b[0;34m(self, line, cell, local_ns)\u001b[0m\n\u001b[1;32m   1160\u001b[0m \u001b[39mfor\u001b[39;00m index \u001b[39min\u001b[39;00m \u001b[39mrange\u001b[39m(\u001b[39m0\u001b[39m, \u001b[39m10\u001b[39m):\n\u001b[1;32m   1161\u001b[0m     number \u001b[39m=\u001b[39m \u001b[39m10\u001b[39m \u001b[39m*\u001b[39m\u001b[39m*\u001b[39m index\n\u001b[0;32m-> 1162\u001b[0m     time_number \u001b[39m=\u001b[39m timer\u001b[39m.\u001b[39;49mtimeit(number)\n\u001b[1;32m   1163\u001b[0m     \u001b[39mif\u001b[39;00m time_number \u001b[39m>\u001b[39m\u001b[39m=\u001b[39m \u001b[39m0.2\u001b[39m:\n\u001b[1;32m   1164\u001b[0m         \u001b[39mbreak\u001b[39;00m\n",
      "File \u001b[0;32m~/miniconda3/lib/python3.9/site-packages/IPython/core/magics/execution.py:156\u001b[0m, in \u001b[0;36mTimer.timeit\u001b[0;34m(self, number)\u001b[0m\n\u001b[1;32m    154\u001b[0m gc\u001b[39m.\u001b[39mdisable()\n\u001b[1;32m    155\u001b[0m \u001b[39mtry\u001b[39;00m:\n\u001b[0;32m--> 156\u001b[0m     timing \u001b[39m=\u001b[39m \u001b[39mself\u001b[39;49m\u001b[39m.\u001b[39;49minner(it, \u001b[39mself\u001b[39;49m\u001b[39m.\u001b[39;49mtimer)\n\u001b[1;32m    157\u001b[0m \u001b[39mfinally\u001b[39;00m:\n\u001b[1;32m    158\u001b[0m     \u001b[39mif\u001b[39;00m gcold:\n",
      "File \u001b[0;32m<magic-timeit>:1\u001b[0m, in \u001b[0;36minner\u001b[0;34m(_it, _timer)\u001b[0m\n",
      "\u001b[1;32m/home/brianlck/code/dissertation/mcmd/test.ipynb Cell 9\u001b[0m line \u001b[0;36mGaussianMixture.util\u001b[0;34m(self, x)\u001b[0m\n\u001b[1;32m     <a href='vscode-notebook-cell://wsl%2Bubuntu-20.04/home/brianlck/code/dissertation/mcmd/test.ipynb#X63sdnNjb2RlLXJlbW90ZQ%3D%3D?line=19'>20</a>\u001b[0m \u001b[39mdef\u001b[39;00m \u001b[39mutil\u001b[39m(\u001b[39mself\u001b[39m, x: Tensor):\n\u001b[1;32m     <a href='vscode-notebook-cell://wsl%2Bubuntu-20.04/home/brianlck/code/dissertation/mcmd/test.ipynb#X63sdnNjb2RlLXJlbW90ZQ%3D%3D?line=20'>21</a>\u001b[0m     y \u001b[39m=\u001b[39m torch\u001b[39m.\u001b[39mlinalg\u001b[39m.\u001b[39msolve_triangular(\n\u001b[1;32m     <a href='vscode-notebook-cell://wsl%2Bubuntu-20.04/home/brianlck/code/dissertation/mcmd/test.ipynb#X63sdnNjb2RlLXJlbW90ZQ%3D%3D?line=21'>22</a>\u001b[0m         GaussianMixture\u001b[39m.\u001b[39ml,\n\u001b[1;32m     <a href='vscode-notebook-cell://wsl%2Bubuntu-20.04/home/brianlck/code/dissertation/mcmd/test.ipynb#X63sdnNjb2RlLXJlbW90ZQ%3D%3D?line=22'>23</a>\u001b[0m         (x\u001b[39m.\u001b[39munsqueeze(\u001b[39m-\u001b[39m\u001b[39m2\u001b[39m) \u001b[39m-\u001b[39m GaussianMixture\u001b[39m.\u001b[39mmeans)\u001b[39m.\u001b[39munsqueeze(\u001b[39m-\u001b[39m\u001b[39m1\u001b[39m),\n\u001b[1;32m     <a href='vscode-notebook-cell://wsl%2Bubuntu-20.04/home/brianlck/code/dissertation/mcmd/test.ipynb#X63sdnNjb2RlLXJlbW90ZQ%3D%3D?line=23'>24</a>\u001b[0m         upper\u001b[39m=\u001b[39m\u001b[39mFalse\u001b[39;00m,\n\u001b[1;32m     <a href='vscode-notebook-cell://wsl%2Bubuntu-20.04/home/brianlck/code/dissertation/mcmd/test.ipynb#X63sdnNjb2RlLXJlbW90ZQ%3D%3D?line=24'>25</a>\u001b[0m     )\u001b[39m.\u001b[39msqueeze(dim\u001b[39m=\u001b[39m\u001b[39m-\u001b[39m\u001b[39m1\u001b[39m)\n\u001b[0;32m---> <a href='vscode-notebook-cell://wsl%2Bubuntu-20.04/home/brianlck/code/dissertation/mcmd/test.ipynb#X63sdnNjb2RlLXJlbW90ZQ%3D%3D?line=27'>28</a>\u001b[0m     mahalanobis_term \u001b[39m=\u001b[39m \u001b[39m-\u001b[39m\u001b[39m1\u001b[39m \u001b[39m/\u001b[39m \u001b[39m2\u001b[39m \u001b[39m*\u001b[39m torch\u001b[39m.\u001b[39;49mdot(y, y, dim\u001b[39m=\u001b[39;49m\u001b[39m-\u001b[39;49m\u001b[39m1\u001b[39;49m)\n\u001b[1;32m     <a href='vscode-notebook-cell://wsl%2Bubuntu-20.04/home/brianlck/code/dissertation/mcmd/test.ipynb#X63sdnNjb2RlLXJlbW90ZQ%3D%3D?line=29'>30</a>\u001b[0m     \u001b[39mreturn\u001b[39;00m mahalanobis_term\n",
      "\u001b[0;31mTypeError\u001b[0m: dot() got an unexpected keyword argument 'dim'"
     ]
    }
   ],
   "source": [
    "target = GaussianMixture()\n",
    "%timeit target.util(coords)"
   ]
  },
  {
   "cell_type": "code",
   "execution_count": null,
   "metadata": {},
   "outputs": [],
   "source": []
  },
  {
   "cell_type": "code",
   "execution_count": 12,
   "metadata": {},
   "outputs": [
    {
     "name": "stdout",
     "output_type": "stream",
     "text": [
      "tensor(nan)\n"
     ]
    },
    {
     "name": "stderr",
     "output_type": "stream",
     "text": [
      "/home/brianlck/miniconda3/lib/python3.9/site-packages/matplotlib/contour.py:1491: UserWarning: Warning: converting a masked element to nan.\n",
      "  self.zmax = float(z.max())\n",
      "/home/brianlck/miniconda3/lib/python3.9/site-packages/matplotlib/contour.py:1492: UserWarning: Warning: converting a masked element to nan.\n",
      "  self.zmin = float(z.min())\n",
      "/tmp/ipykernel_3883/1416454746.py:18: UserWarning: No contour levels were found within the data range.\n",
      "  plt.contour(X, Y, mag)\n"
     ]
    },
    {
     "ename": "IndexError",
     "evalue": "index 1 is out of bounds for axis 0 with size 1",
     "output_type": "error",
     "traceback": [
      "\u001b[0;31m---------------------------------------------------------------------------\u001b[0m",
      "\u001b[0;31mIndexError\u001b[0m                                Traceback (most recent call last)",
      "\u001b[1;32m/home/brianlck/code/dissertation/mcmd/test.ipynb Cell 24\u001b[0m line \u001b[0;36m<cell line: 19>\u001b[0;34m()\u001b[0m\n\u001b[1;32m     <a href='vscode-notebook-cell://wsl%2Bubuntu-20.04/home/brianlck/code/dissertation/mcmd/test.ipynb#X15sdnNjb2RlLXJlbW90ZQ%3D%3D?line=16'>17</a>\u001b[0m plt\u001b[39m.\u001b[39mquiver(X, Y, gg[:, \u001b[39m0\u001b[39m], gg[:, \u001b[39m1\u001b[39m])\n\u001b[1;32m     <a href='vscode-notebook-cell://wsl%2Bubuntu-20.04/home/brianlck/code/dissertation/mcmd/test.ipynb#X15sdnNjb2RlLXJlbW90ZQ%3D%3D?line=17'>18</a>\u001b[0m plt\u001b[39m.\u001b[39mcontour(X, Y, mag)\n\u001b[0;32m---> <a href='vscode-notebook-cell://wsl%2Bubuntu-20.04/home/brianlck/code/dissertation/mcmd/test.ipynb#X15sdnNjb2RlLXJlbW90ZQ%3D%3D?line=18'>19</a>\u001b[0m plt\u001b[39m.\u001b[39;49mcolorbar()\n",
      "File \u001b[0;32m~/miniconda3/lib/python3.9/site-packages/matplotlib/pyplot.py:2109\u001b[0m, in \u001b[0;36mcolorbar\u001b[0;34m(mappable, cax, ax, **kw)\u001b[0m\n\u001b[1;32m   2104\u001b[0m     \u001b[39mif\u001b[39;00m mappable \u001b[39mis\u001b[39;00m \u001b[39mNone\u001b[39;00m:\n\u001b[1;32m   2105\u001b[0m         \u001b[39mraise\u001b[39;00m \u001b[39mRuntimeError\u001b[39;00m(\u001b[39m'\u001b[39m\u001b[39mNo mappable was found to use for colorbar \u001b[39m\u001b[39m'\u001b[39m\n\u001b[1;32m   2106\u001b[0m                            \u001b[39m'\u001b[39m\u001b[39mcreation. First define a mappable such as \u001b[39m\u001b[39m'\u001b[39m\n\u001b[1;32m   2107\u001b[0m                            \u001b[39m'\u001b[39m\u001b[39man image (with imshow) or a contour set (\u001b[39m\u001b[39m'\u001b[39m\n\u001b[1;32m   2108\u001b[0m                            \u001b[39m'\u001b[39m\u001b[39mwith contourf).\u001b[39m\u001b[39m'\u001b[39m)\n\u001b[0;32m-> 2109\u001b[0m ret \u001b[39m=\u001b[39m gcf()\u001b[39m.\u001b[39;49mcolorbar(mappable, cax\u001b[39m=\u001b[39;49mcax, ax\u001b[39m=\u001b[39;49max, \u001b[39m*\u001b[39;49m\u001b[39m*\u001b[39;49mkw)\n\u001b[1;32m   2110\u001b[0m \u001b[39mreturn\u001b[39;00m ret\n",
      "File \u001b[0;32m~/miniconda3/lib/python3.9/site-packages/matplotlib/figure.py:1210\u001b[0m, in \u001b[0;36mFigureBase.colorbar\u001b[0;34m(self, mappable, cax, ax, use_gridspec, **kw)\u001b[0m\n\u001b[1;32m   1206\u001b[0m NON_COLORBAR_KEYS \u001b[39m=\u001b[39m [\u001b[39m'\u001b[39m\u001b[39mfraction\u001b[39m\u001b[39m'\u001b[39m, \u001b[39m'\u001b[39m\u001b[39mpad\u001b[39m\u001b[39m'\u001b[39m, \u001b[39m'\u001b[39m\u001b[39mshrink\u001b[39m\u001b[39m'\u001b[39m, \u001b[39m'\u001b[39m\u001b[39maspect\u001b[39m\u001b[39m'\u001b[39m, \u001b[39m'\u001b[39m\u001b[39manchor\u001b[39m\u001b[39m'\u001b[39m,\n\u001b[1;32m   1207\u001b[0m                      \u001b[39m'\u001b[39m\u001b[39mpanchor\u001b[39m\u001b[39m'\u001b[39m]\n\u001b[1;32m   1208\u001b[0m cb_kw \u001b[39m=\u001b[39m {k: v \u001b[39mfor\u001b[39;00m k, v \u001b[39min\u001b[39;00m kw\u001b[39m.\u001b[39mitems() \u001b[39mif\u001b[39;00m k \u001b[39mnot\u001b[39;00m \u001b[39min\u001b[39;00m NON_COLORBAR_KEYS}\n\u001b[0;32m-> 1210\u001b[0m cb \u001b[39m=\u001b[39m cbar\u001b[39m.\u001b[39;49mColorbar(cax, mappable, \u001b[39m*\u001b[39;49m\u001b[39m*\u001b[39;49mcb_kw)\n\u001b[1;32m   1212\u001b[0m \u001b[39mif\u001b[39;00m \u001b[39mnot\u001b[39;00m userax:\n\u001b[1;32m   1213\u001b[0m     \u001b[39mself\u001b[39m\u001b[39m.\u001b[39msca(current_ax)\n",
      "File \u001b[0;32m~/miniconda3/lib/python3.9/site-packages/matplotlib/colorbar.py:494\u001b[0m, in \u001b[0;36mColorbar.__init__\u001b[0;34m(self, ax, mappable, cmap, norm, alpha, values, boundaries, orientation, ticklocation, extend, spacing, ticks, format, drawedges, filled, extendfrac, extendrect, label)\u001b[0m\n\u001b[1;32m    492\u001b[0m \u001b[39melse\u001b[39;00m:\n\u001b[1;32m    493\u001b[0m     \u001b[39mself\u001b[39m\u001b[39m.\u001b[39mformatter \u001b[39m=\u001b[39m \u001b[39mformat\u001b[39m  \u001b[39m# Assume it is a Formatter or None\u001b[39;00m\n\u001b[0;32m--> 494\u001b[0m \u001b[39mself\u001b[39;49m\u001b[39m.\u001b[39;49mdraw_all()\n\u001b[1;32m    496\u001b[0m \u001b[39mif\u001b[39;00m \u001b[39misinstance\u001b[39m(mappable, contour\u001b[39m.\u001b[39mContourSet) \u001b[39mand\u001b[39;00m \u001b[39mnot\u001b[39;00m mappable\u001b[39m.\u001b[39mfilled:\n\u001b[1;32m    497\u001b[0m     \u001b[39mself\u001b[39m\u001b[39m.\u001b[39madd_lines(mappable)\n",
      "File \u001b[0;32m~/miniconda3/lib/python3.9/site-packages/matplotlib/colorbar.py:583\u001b[0m, in \u001b[0;36mColorbar.draw_all\u001b[0;34m(self)\u001b[0m\n\u001b[1;32m    581\u001b[0m \u001b[39mself\u001b[39m\u001b[39m.\u001b[39mvmin, \u001b[39mself\u001b[39m\u001b[39m.\u001b[39mvmax \u001b[39m=\u001b[39m \u001b[39mself\u001b[39m\u001b[39m.\u001b[39m_boundaries[\u001b[39mself\u001b[39m\u001b[39m.\u001b[39m_inside][[\u001b[39m0\u001b[39m, \u001b[39m-\u001b[39m\u001b[39m1\u001b[39m]]\n\u001b[1;32m    582\u001b[0m \u001b[39m# Compute the X/Y mesh.\u001b[39;00m\n\u001b[0;32m--> 583\u001b[0m X, Y \u001b[39m=\u001b[39m \u001b[39mself\u001b[39;49m\u001b[39m.\u001b[39;49m_mesh()\n\u001b[1;32m    584\u001b[0m \u001b[39m# draw the extend triangles, and shrink the inner axes to accommodate.\u001b[39;00m\n\u001b[1;32m    585\u001b[0m \u001b[39m# also adds the outline path to self.outline spine:\u001b[39;00m\n\u001b[1;32m    586\u001b[0m \u001b[39mself\u001b[39m\u001b[39m.\u001b[39m_do_extends()\n",
      "File \u001b[0;32m~/miniconda3/lib/python3.9/site-packages/matplotlib/colorbar.py:1165\u001b[0m, in \u001b[0;36mColorbar._mesh\u001b[0;34m(self)\u001b[0m\n\u001b[1;32m   1163\u001b[0m norm\u001b[39m.\u001b[39mvmin \u001b[39m=\u001b[39m \u001b[39mself\u001b[39m\u001b[39m.\u001b[39mvmin\n\u001b[1;32m   1164\u001b[0m norm\u001b[39m.\u001b[39mvmax \u001b[39m=\u001b[39m \u001b[39mself\u001b[39m\u001b[39m.\u001b[39mvmax\n\u001b[0;32m-> 1165\u001b[0m y, _ \u001b[39m=\u001b[39m \u001b[39mself\u001b[39;49m\u001b[39m.\u001b[39;49m_proportional_y()\n\u001b[1;32m   1166\u001b[0m \u001b[39m# Use the vmin and vmax of the colorbar, which may not be the same\u001b[39;00m\n\u001b[1;32m   1167\u001b[0m \u001b[39m# as the norm. There are situations where the colormap has a\u001b[39;00m\n\u001b[1;32m   1168\u001b[0m \u001b[39m# narrower range than the colorbar and we want to accommodate the\u001b[39;00m\n\u001b[1;32m   1169\u001b[0m \u001b[39m# extra contours.\u001b[39;00m\n\u001b[1;32m   1170\u001b[0m \u001b[39mif\u001b[39;00m (\u001b[39misinstance\u001b[39m(norm, (colors\u001b[39m.\u001b[39mBoundaryNorm, colors\u001b[39m.\u001b[39mNoNorm))\n\u001b[1;32m   1171\u001b[0m         \u001b[39mor\u001b[39;00m \u001b[39mself\u001b[39m\u001b[39m.\u001b[39mboundaries \u001b[39mis\u001b[39;00m \u001b[39mnot\u001b[39;00m \u001b[39mNone\u001b[39;00m):\n\u001b[1;32m   1172\u001b[0m     \u001b[39m# not using a norm.\u001b[39;00m\n",
      "File \u001b[0;32m~/miniconda3/lib/python3.9/site-packages/matplotlib/colorbar.py:1293\u001b[0m, in \u001b[0;36mColorbar._proportional_y\u001b[0;34m(self)\u001b[0m\n\u001b[1;32m   1290\u001b[0m yscaled \u001b[39m=\u001b[39m np\u001b[39m.\u001b[39mma\u001b[39m.\u001b[39mfilled(norm(yscaled), np\u001b[39m.\u001b[39mnan)\n\u001b[1;32m   1291\u001b[0m \u001b[39m# make the lower and upper extend lengths proportional to the lengths\u001b[39;00m\n\u001b[1;32m   1292\u001b[0m \u001b[39m# of the first and last boundary spacing (if extendfrac='auto'):\u001b[39;00m\n\u001b[0;32m-> 1293\u001b[0m automin \u001b[39m=\u001b[39m yscaled[\u001b[39m1\u001b[39;49m] \u001b[39m-\u001b[39m yscaled[\u001b[39m0\u001b[39m]\n\u001b[1;32m   1294\u001b[0m automax \u001b[39m=\u001b[39m yscaled[\u001b[39m-\u001b[39m\u001b[39m1\u001b[39m] \u001b[39m-\u001b[39m yscaled[\u001b[39m-\u001b[39m\u001b[39m2\u001b[39m]\n\u001b[1;32m   1295\u001b[0m extendlength \u001b[39m=\u001b[39m [\u001b[39m0\u001b[39m, \u001b[39m0\u001b[39m]\n",
      "\u001b[0;31mIndexError\u001b[0m: index 1 is out of bounds for axis 0 with size 1"
     ]
    },
    {
     "name": "stderr",
     "output_type": "stream",
     "text": [
      "/home/brianlck/miniconda3/lib/python3.9/site-packages/matplotlib/quiver.py:633: RuntimeWarning: Mean of empty slice.\n",
      "  amean = a[~self.Umask].mean()\n",
      "/home/brianlck/miniconda3/lib/python3.9/site-packages/numpy/core/_methods.py:189: RuntimeWarning: invalid value encountered in true_divide\n",
      "  ret = ret.dtype.type(ret / rcount)\n",
      "/home/brianlck/miniconda3/lib/python3.9/site-packages/matplotlib/transforms.py:2663: RuntimeWarning: divide by zero encountered in double_scalars\n",
      "  y_scale = 1.0 / inh\n",
      "/home/brianlck/miniconda3/lib/python3.9/site-packages/matplotlib/transforms.py:2665: RuntimeWarning: invalid value encountered in double_scalars\n",
      "  [0.0    , y_scale, (-inb*y_scale)],\n",
      "posx and posy should be finite values\n",
      "posx and posy should be finite values\n",
      "posx and posy should be finite values\n",
      "posx and posy should be finite values\n",
      "posx and posy should be finite values\n",
      "posx and posy should be finite values\n",
      "posx and posy should be finite values\n",
      "posx and posy should be finite values\n",
      "posx and posy should be finite values\n",
      "posx and posy should be finite values\n",
      "posx and posy should be finite values\n",
      "posx and posy should be finite values\n"
     ]
    },
    {
     "data": {
      "image/png": "[encoded data removed]",
      "text/plain": [
       "<Figure size 720x720 with 2 Axes>"
      ]
     },
     "metadata": {
      "needs_background": "light"
     },
     "output_type": "display_data"
    }
   ],
   "source": [
    "\n",
    "import numpy as np\n",
    "import matplotlib.pyplot as plt\n",
    "\n",
    "x = np.linspace(-20, 20, 30)\n",
    "y = np.linspace(-20, 20, 30)\n",
    "\n",
    "X, Y = np.meshgrid(x, y)\n",
    "coords = np.vstack([X.ravel(), Y.ravel()]).T\n",
    "coords = torch.tensor(coords, dtype=torch.float32).cuda()\n",
    "\n",
    "gg = sampler.drift(coords, 4).cpu().detach()\n",
    "mag = torch.norm(gg, dim=1).reshape(30, 30)\n",
    "\n",
    "print(torch.norm(gg, dim=0).mean())\n",
    "plt.figure(figsize=(10, 10))\n",
    "\n",
    "plt.quiver(X, Y, gg[:, 0], gg[:, 1])\n",
    "plt.contour(X, Y, mag)\n",
    "plt.colorbar()\n",
    "\n"
   ]
  },
  {
   "cell_type": "code",
   "execution_count": null,
   "metadata": {},
   "outputs": [],
   "source": [
    "score_fn.scale_factor"
   ]
  },
  {
   "cell_type": "code",
   "execution_count": 9,
   "metadata": {},
   "outputs": [
    {
     "name": "stderr",
     "output_type": "stream",
     "text": [
      "/home/brianlck/miniconda3/lib/python3.9/site-packages/torch/distributions/distribution.py:179: UserWarning: sample_n will be deprecated. Use .sample((n,)) instead\n",
      "  warnings.warn(\n"
     ]
    },
    {
     "name": "stdout",
     "output_type": "stream",
     "text": [
      "1.0472798996445476e+20 100.0 0.0\n",
      "nan nan nan\n",
      "nan nan nan\n",
      "nan nan nan\n",
      "nan nan nan\n",
      "nan nan nan\n",
      "nan nan nan\n",
      "nan nan nan\n",
      "nan nan nan\n",
      "nan nan nan\n"
     ]
    },
    {
     "ename": "KeyboardInterrupt",
     "evalue": "",
     "output_type": "error",
     "traceback": [
      "\u001b[0;31m---------------------------------------------------------------------------\u001b[0m",
      "\u001b[0;31mKeyboardInterrupt\u001b[0m                         Traceback (most recent call last)",
      "\u001b[1;32m/home/brianlck/code/dissertation/mcmd/test.ipynb Cell 26\u001b[0m line \u001b[0;36m<cell line: 1>\u001b[0;34m()\u001b[0m\n\u001b[1;32m      <a href='vscode-notebook-cell://wsl%2Bubuntu-20.04/home/brianlck/code/dissertation/mcmd/test.ipynb#X20sdnNjb2RlLXJlbW90ZQ%3D%3D?line=5'>6</a>\u001b[0m \u001b[39m# if i % 20 == 0:\u001b[39;00m\n\u001b[1;32m      <a href='vscode-notebook-cell://wsl%2Bubuntu-20.04/home/brianlck/code/dissertation/mcmd/test.ipynb#X20sdnNjb2RlLXJlbW90ZQ%3D%3D?line=6'>7</a>\u001b[0m \u001b[39mprint\u001b[39m(loss\u001b[39m.\u001b[39mitem(), sampler\u001b[39m.\u001b[39mmult\u001b[39m.\u001b[39mitem(), sampler\u001b[39m.\u001b[39mscore_fn\u001b[39m.\u001b[39mscale\u001b[39m.\u001b[39mitem())\n\u001b[0;32m----> <a href='vscode-notebook-cell://wsl%2Bubuntu-20.04/home/brianlck/code/dissertation/mcmd/test.ipynb#X20sdnNjb2RlLXJlbW90ZQ%3D%3D?line=7'>8</a>\u001b[0m loss\u001b[39m.\u001b[39;49mbackward()\n\u001b[1;32m      <a href='vscode-notebook-cell://wsl%2Bubuntu-20.04/home/brianlck/code/dissertation/mcmd/test.ipynb#X20sdnNjb2RlLXJlbW90ZQ%3D%3D?line=8'>9</a>\u001b[0m optim\u001b[39m.\u001b[39mstep()\n",
      "File \u001b[0;32m~/miniconda3/lib/python3.9/site-packages/torch/_tensor.py:492\u001b[0m, in \u001b[0;36mTensor.backward\u001b[0;34m(self, gradient, retain_graph, create_graph, inputs)\u001b[0m\n\u001b[1;32m    482\u001b[0m \u001b[39mif\u001b[39;00m has_torch_function_unary(\u001b[39mself\u001b[39m):\n\u001b[1;32m    483\u001b[0m     \u001b[39mreturn\u001b[39;00m handle_torch_function(\n\u001b[1;32m    484\u001b[0m         Tensor\u001b[39m.\u001b[39mbackward,\n\u001b[1;32m    485\u001b[0m         (\u001b[39mself\u001b[39m,),\n\u001b[0;32m   (...)\u001b[0m\n\u001b[1;32m    490\u001b[0m         inputs\u001b[39m=\u001b[39minputs,\n\u001b[1;32m    491\u001b[0m     )\n\u001b[0;32m--> 492\u001b[0m torch\u001b[39m.\u001b[39;49mautograd\u001b[39m.\u001b[39;49mbackward(\n\u001b[1;32m    493\u001b[0m     \u001b[39mself\u001b[39;49m, gradient, retain_graph, create_graph, inputs\u001b[39m=\u001b[39;49minputs\n\u001b[1;32m    494\u001b[0m )\n",
      "File \u001b[0;32m~/miniconda3/lib/python3.9/site-packages/torch/autograd/__init__.py:251\u001b[0m, in \u001b[0;36mbackward\u001b[0;34m(tensors, grad_tensors, retain_graph, create_graph, grad_variables, inputs)\u001b[0m\n\u001b[1;32m    246\u001b[0m     retain_graph \u001b[39m=\u001b[39m create_graph\n\u001b[1;32m    248\u001b[0m \u001b[39m# The reason we repeat the same comment below is that\u001b[39;00m\n\u001b[1;32m    249\u001b[0m \u001b[39m# some Python versions print out the first line of a multi-line function\u001b[39;00m\n\u001b[1;32m    250\u001b[0m \u001b[39m# calls in the traceback and some print out the last line\u001b[39;00m\n\u001b[0;32m--> 251\u001b[0m Variable\u001b[39m.\u001b[39;49m_execution_engine\u001b[39m.\u001b[39;49mrun_backward(  \u001b[39m# Calls into the C++ engine to run the backward pass\u001b[39;49;00m\n\u001b[1;32m    252\u001b[0m     tensors,\n\u001b[1;32m    253\u001b[0m     grad_tensors_,\n\u001b[1;32m    254\u001b[0m     retain_graph,\n\u001b[1;32m    255\u001b[0m     create_graph,\n\u001b[1;32m    256\u001b[0m     inputs,\n\u001b[1;32m    257\u001b[0m     allow_unreachable\u001b[39m=\u001b[39;49m\u001b[39mTrue\u001b[39;49;00m,\n\u001b[1;32m    258\u001b[0m     accumulate_grad\u001b[39m=\u001b[39;49m\u001b[39mTrue\u001b[39;49;00m,\n\u001b[1;32m    259\u001b[0m )\n",
      "\u001b[0;31mKeyboardInterrupt\u001b[0m: "
     ]
    }
   ],
   "source": [
    "for i in range(10000):\n",
    "    optim.zero_grad()\n",
    "    samples = sampler.sample(100)\n",
    "    loss = samples.loss\n",
    "    assert loss != None\n",
    "    # if i % 20 == 0:\n",
    "    print(loss.item(), sampler.mult.item(), sampler.score_fn.scale.item())\n",
    "    loss.backward()\n",
    "    optim.step()\n",
    "    "
   ]
  },
  {
   "cell_type": "code",
   "execution_count": null,
   "metadata": {},
   "outputs": [],
   "source": [
    "sampler.grid_t"
   ]
  },
  {
   "cell_type": "code",
   "execution_count": null,
   "metadata": {},
   "outputs": [],
   "source": [
    "import torch.autograd.profiler as profiler\n",
    "\n",
    "with profiler.profile(with_stack=True, profile_memory=True) as prof:\n",
    "    samples = sampler.sample(10)"
   ]
  },
  {
   "cell_type": "code",
   "execution_count": null,
   "metadata": {},
   "outputs": [],
   "source": [
    "print(prof.key_averages(group_by_stack_n=5).table(sort_by='self_cpu_time_total', row_limit=100))"
   ]
  },
  {
   "cell_type": "code",
   "execution_count": null,
   "metadata": {},
   "outputs": [],
   "source": [
    "import numpy as np\n",
    "import matplotlib.pyplot as plt\n",
    "\n",
    "x = np.linspace(-50, 50, 10)\n",
    "y = np.linspace(-50, 50, 10)\n",
    "\n",
    "X, Y = np.meshgrid(x, y)\n",
    "coords = np.vstack([X.ravel(), Y.ravel()]).T\n",
    "coords = torch.tensor(coords, dtype=torch.float32).cuda()\n",
    "\n",
    "score = score_fn(coords, 4).detach().cpu()\n",
    "mag = torch.norm(score, dim=1).reshape(10, 10)\n",
    "\n",
    "plt.quiver(X, Y, score[:, 0], score[:, 1])\n",
    "plt.contour(X, Y, mag)\n",
    "plt.colorbar()"
   ]
  },
  {
   "cell_type": "code",
   "execution_count": null,
   "metadata": {},
   "outputs": [],
   "source": [
    "x = np.linspace(-10, 10, 100)\n",
    "y = np.linspace(-10, 10, 100)\n",
    "\n",
    "X, Y = np.meshgrid(x, y)\n",
    "coords = np.vstack([X.ravel(), Y.ravel()]).T\n",
    "coords = torch.tensor(coords, dtype=torch.float32)\n",
    "\n",
    "score = sampler.grad_log_phi(coords, 6 / 8).detach()\n",
    "mag = torch.norm(score, dim=1).reshape(100, 100)\n",
    "\n",
    "score = score / mag.reshape(-1, 1)\n",
    "\n",
    "\n",
    "densities = target.log_density(coords).reshape(100, 100).exp()\n",
    "\n",
    "plt.figure(figsize=(20, 20))\n",
    "plt.quiver(X, Y, score[:, 0], score[:, 1])\n",
    "plt.colorbar()"
   ]
  },
  {
   "cell_type": "code",
   "execution_count": null,
   "metadata": {},
   "outputs": [],
   "source": [
    "x = np.linspace(-10, 10, 100)\n",
    "y = np.linspace(-10, 10, 100)\n",
    "\n",
    "X, Y = np.meshgrid(x, y)\n",
    "coords = np.vstack([X.ravel(), Y.ravel()]).T\n",
    "coords = torch.tensor(coords, dtype=torch.float32)\n",
    "\n",
    "print(torch.exp(target.log_density(coords)).max())\n",
    "\n",
    "score = torch.func.jacrev(lambda x: target.log_density(x).mean())(coords).detach()\n",
    "mag = torch.norm(score, dim=1).reshape(100, 100)\n",
    "\n",
    "densities = target.log_density(coords).reshape(100, 100).exp()\n",
    "\n",
    "score = score / mag.reshape(-1, 1)\n",
    "\n",
    "plt.figure(figsize=(20, 20))\n",
    "\n",
    "plt.quiver(X, Y, score[:, 0], score[:, 1])\n",
    "plt.contour(X, Y, densities)\n",
    "plt.colorbar()"
   ]
  },
  {
   "cell_type": "code",
   "execution_count": 11,
   "metadata": {},
   "outputs": [
    {
     "name": "stdout",
     "output_type": "stream",
     "text": [
      "tensor(0.9893)\n"
     ]
    },
    {
     "data": {
      "text/plain": [
       "<matplotlib.colorbar.Colorbar at 0x7fb0499a24f0>"
      ]
     },
     "execution_count": 11,
     "metadata": {},
     "output_type": "execute_result"
    },
    {
     "data": {
      "image/png": "[encoded data removed]",
      "text/plain": [
       "<Figure size 432x288 with 2 Axes>"
      ]
     },
     "metadata": {
      "needs_background": "light"
     },
     "output_type": "display_data"
    }
   ],
   "source": [
    "import numpy as np\n",
    "import matplotlib.pyplot as plt\n",
    "\n",
    "x = np.linspace(-5, 5, 1000)\n",
    "y = np.linspace(-5, 5, 1000)\n",
    "\n",
    "X, Y = np.meshgrid(x, y)\n",
    "coords = np.vstack([X.ravel(), Y.ravel()]).T\n",
    "coords = torch.tensor(coords, device='cuda')\n",
    "\n",
    "density = GaussianMixture().log_density(coords).reshape(1000, 1000).T.exp().cpu()\n",
    "\n",
    "\n",
    "dS = (x[1] - x[0]) * (y[1] - y[0])\n",
    "cum = density.sum() * dS\n",
    "\n",
    "print(cum)\n",
    "\n",
    "\n",
    "\n",
    "plt.contour(X, Y, density)\n",
    "plt.colorbar()"
   ]
  },
  {
   "cell_type": "code",
   "execution_count": null,
   "metadata": {},
   "outputs": [],
   "source": [
    "score_fn(coords[:2], 1)"
   ]
  },
  {
   "cell_type": "code",
   "execution_count": null,
   "metadata": {},
   "outputs": [],
   "source": [
    "score_fn(coords[:2], 2)"
   ]
  }
 ],
 "metadata": {
  "kernelspec": {
   "display_name": "base",
   "language": "python",
   "name": "python3"
  },
  "language_info": {
   "codemirror_mode": {
    "name": "ipython",
    "version": 3
   },
   "file_extension": ".py",
   "mimetype": "text/x-python",
   "name": "python",
   "nbconvert_exporter": "python",
   "pygments_lexer": "ipython3",
   "version": "3.9.12"
  }
 },
 "nbformat": 4,
 "nbformat_minor": 2
}
